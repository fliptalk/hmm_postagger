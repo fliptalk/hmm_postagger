{
 "cells": [
  {
   "cell_type": "code",
   "execution_count": 1,
   "metadata": {
    "collapsed": true
   },
   "outputs": [],
   "source": [
    "import sys\n",
    "sys.path.append('../')\n",
    "from hmm_postagger import Corpus\n",
    "from hmm_postagger import TrainedHMMTagger\n",
    "\n",
    "model_path = '../models/sejong_simple_hmm.json'\n",
    "tagger = TrainedHMMTagger(model_path)"
   ]
  },
  {
   "cell_type": "code",
   "execution_count": 2,
   "metadata": {},
   "outputs": [
    {
     "name": "stdout",
     "output_type": "stream",
     "text": [
      "\n",
      "\n",
      "주간아이돌에 아이오아이가 출연했다\n",
      "[('BOS', 'BOS'),\n",
      " ('주간', 'Noun'),\n",
      " ('아이돌', 'Noun'),\n",
      " ('에', 'Josa'),\n",
      " ('아이오아', 'Noun'),\n",
      " ('이가', 'Noun'),\n",
      " ('출연', 'Noun'),\n",
      " ('하', 'Verb'),\n",
      " ('았', 'Eomi'),\n",
      " ('다', 'Eomi')]\n",
      "\n",
      "\n",
      "이번 경기에서는 누가 이겼을까\n",
      "[('BOS', 'BOS'),\n",
      " ('이번', 'Noun'),\n",
      " ('경기', 'Noun'),\n",
      " ('에서', 'Noun'),\n",
      " ('는', 'Josa'),\n",
      " ('누가', 'Noun'),\n",
      " ('이기', 'Verb'),\n",
      " ('었', 'Eomi'),\n",
      " ('을까', 'Eomi')]\n",
      "\n",
      "\n",
      "아이고 작업이 쉽지 않구만\n",
      "[('BOS', 'BOS'),\n",
      " ('아이고', 'Noun'),\n",
      " ('작업', 'Noun'),\n",
      " ('이', 'Josa'),\n",
      " ('쉽', 'Adjective'),\n",
      " ('지', 'Eomi'),\n",
      " ('않', 'Verb'),\n",
      " ('구만', 'Eomi')]\n",
      "\n",
      "\n",
      "샤샨 괜찮아\n",
      "[('BOS', 'BOS'),\n",
      " ('샤샤', 'Noun'),\n",
      " ('ㄴ', 'Josa'),\n",
      " ('괜찮', 'Adjective'),\n",
      " ('아', 'Eomi')]\n",
      "\n",
      "\n",
      "갹갹은 어디있어\n",
      "[('BOS', 'BOS'),\n",
      " ('갹갹', 'Noun'),\n",
      " ('은', 'Josa'),\n",
      " ('어디', 'Noun'),\n",
      " ('있', 'Verb'),\n",
      " ('어', 'Eomi')]\n",
      "\n",
      "\n",
      "tt는 좋은 노래야\n",
      "[('BOS', 'BOS'),\n",
      " ('tt', 'Noun'),\n",
      " ('는', 'Josa'),\n",
      " ('좋', 'Adjective'),\n",
      " ('은', 'Eomi'),\n",
      " ('노래', 'Noun'),\n",
      " ('야', 'Josa')]\n"
     ]
    }
   ],
   "source": [
    "from pprint import pprint\n",
    "\n",
    "sents = [\n",
    "    '주간아이돌에 아이오아이가 출연했다',\n",
    "    '이번 경기에서는 누가 이겼을까',\n",
    "    '아이고 작업이 쉽지 않구만',\n",
    "    '샤샨 괜찮아',\n",
    "    '갹갹은 어디있어',\n",
    "    'tt는 좋은 노래야'\n",
    "]\n",
    "\n",
    "for sent in sents:\n",
    "    print('\\n\\n{}'.format(sent))\n",
    "    pprint(tagger.tag(sent, inference_unknown=True))"
   ]
  },
  {
   "cell_type": "code",
   "execution_count": 3,
   "metadata": {
    "collapsed": true
   },
   "outputs": [],
   "source": [
    "tagger.add_user_dictionary('Noun', ['아이오아이', '주간아이돌'])"
   ]
  },
  {
   "cell_type": "code",
   "execution_count": 4,
   "metadata": {},
   "outputs": [
    {
     "name": "stdout",
     "output_type": "stream",
     "text": [
      "[('BOS', 'BOS'),\n",
      " ('주간아이돌', 'Noun'),\n",
      " ('에', 'Josa'),\n",
      " ('아이오아이', 'Noun'),\n",
      " ('가', 'Josa'),\n",
      " ('출연', 'Noun'),\n",
      " ('하', 'Verb'),\n",
      " ('았', 'Eomi'),\n",
      " ('다', 'Eomi')]\n"
     ]
    }
   ],
   "source": [
    "pprint(tagger.tag('주간아이돌에 아이오아이가 출연했다'))"
   ]
  },
  {
   "cell_type": "code",
   "execution_count": null,
   "metadata": {
    "collapsed": true
   },
   "outputs": [],
   "source": []
  }
 ],
 "metadata": {
  "kernelspec": {
   "display_name": "Python 3",
   "language": "python",
   "name": "python3"
  },
  "language_info": {
   "codemirror_mode": {
    "name": "ipython",
    "version": 3
   },
   "file_extension": ".py",
   "mimetype": "text/x-python",
   "name": "python",
   "nbconvert_exporter": "python",
   "pygments_lexer": "ipython3",
   "version": "3.6.2"
  }
 },
 "nbformat": 4,
 "nbformat_minor": 1
}
