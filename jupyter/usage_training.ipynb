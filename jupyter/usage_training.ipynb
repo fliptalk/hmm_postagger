{
 "cells": [
  {
   "cell_type": "code",
   "execution_count": 7,
   "metadata": {
    "collapsed": true
   },
   "outputs": [],
   "source": [
    "import sys\n",
    "sys.path.append('../')\n",
    "import hmm_postagger"
   ]
  },
  {
   "cell_type": "code",
   "execution_count": 8,
   "metadata": {},
   "outputs": [
    {
     "name": "stdout",
     "output_type": "stream",
     "text": [
      "\n",
      "\n",
      "Training with ../data/sejong_corpus_lr.txt\n",
      "Corpus ... \n",
      "[['프랑스', 'Noun'], ['의', 'Josa'], ['세계적', 'Noun'], ['인', 'Josa'], ['의상', 'Noun'], ['디자이너', 'Noun'], ['엠마누엘', 'Noun'], ['웅가로', 'Noun'], ['가', 'Josa'], ['실내', 'Noun'], ['장식용', 'Noun'], ['직물', 'Noun'], ['디자이너', 'Noun'], ['로', 'Josa'], ['나서', 'Verb'], ['었다', 'Eomi']]\n",
      "training observation/transition prob from 1032214 sents was done\n",
      "num pos = 11, num transition = 132\n"
     ]
    }
   ],
   "source": [
    "from hmm_postagger import Corpus\n",
    "from hmm_postagger import CorpusTrainer\n",
    "\n",
    "# set file\n",
    "paths = [\n",
    "    ('../data/sejong_corpus_lr.txt', '../models/sejong_lr_hmm.json')\n",
    "]\n",
    "\n",
    "for sejong_path, model_path in paths:\n",
    "\n",
    "    print('\\n\\nTraining with {}'.format(sejong_path))\n",
    "\n",
    "    # check corpus\n",
    "    print('Corpus ... ')\n",
    "    corpus = Corpus(sejong_path)\n",
    "    for i, sent in enumerate(corpus):\n",
    "        print(sent)\n",
    "        break\n",
    "\n",
    "    # train model\n",
    "    trainer = CorpusTrainer(min_count_tag=5, min_count_word=1, verbose=True)\n",
    "    trainer.train(corpus, model_path)\n",
    "\n",
    "    print('num pos = {}, num transition = {}'.format(\n",
    "        len(trainer.emission_), len(trainer.transition_)))"
   ]
  },
  {
   "cell_type": "code",
   "execution_count": 9,
   "metadata": {
    "collapsed": true
   },
   "outputs": [],
   "source": [
    "import json\n",
    "with open('../models/sejong_lr_hmm.json', encoding='utf-8') as f:\n",
    "    model = json.load(f)"
   ]
  },
  {
   "cell_type": "code",
   "execution_count": 10,
   "metadata": {},
   "outputs": [
    {
     "data": {
      "text/plain": [
       "dict_keys(['emission', 'transition'])"
      ]
     },
     "execution_count": 10,
     "metadata": {},
     "output_type": "execute_result"
    }
   ],
   "source": [
    "model.keys()"
   ]
  },
  {
   "cell_type": "code",
   "execution_count": 11,
   "metadata": {},
   "outputs": [
    {
     "data": {
      "text/plain": [
       "dict_keys(['Noun', 'Josa', 'Verb', 'Eomi', 'Pronoun', 'Adverb', 'Adjective', 'Determiner', 'Number', 'Unk', 'Exclamation'])"
      ]
     },
     "execution_count": 11,
     "metadata": {},
     "output_type": "execute_result"
    }
   ],
   "source": [
    "model['emission'].keys()"
   ]
  },
  {
   "cell_type": "code",
   "execution_count": 12,
   "metadata": {},
   "outputs": [
    {
     "data": {
      "text/plain": [
       "[('프랑스', -7.997661850937775),\n",
       " ('세계적', -8.767694174185936),\n",
       " ('의상', -9.816346023536424),\n",
       " ('디자이너', -11.281708908132007),\n",
       " ('엠마누엘', -14.958009580039082),\n",
       " ('웅가로', -14.552544471930918),\n",
       " ('실내', -10.038028654210958),\n",
       " ('장식용', -12.095808699109615),\n",
       " ('직물', -10.959808878369884),\n",
       " ('침실', -10.830875194993991),\n",
       " ('식당', -8.980390439753155),\n",
       " ('욕실', -10.563560425366644),\n",
       " ('사용', -6.813475545005832),\n",
       " ('갖가지', -9.822211142988822),\n",
       " ('직물제품', -15.651156760599028),\n",
       " ('디자인', -9.644803600997296),\n",
       " ('최근', -7.344190895230454),\n",
       " ('파리', -9.158916925578557),\n",
       " ('갤러리', -11.822515364109933),\n",
       " ('라파예트백화점', -15.651156760599028),\n",
       " ('색', -8.864439809993947),\n",
       " ('컬렉션', -12.760785002702864),\n",
       " ('이름', -7.002935306776386),\n",
       " ('전시회', -10.117767271871507),\n",
       " ('목욕가운', -14.264862399479137),\n",
       " ('탁자보', -14.958009580039082),\n",
       " ('냅킨', -12.249959378936873),\n",
       " ('앞치마', -12.040238847954804),\n",
       " ('작품들', -9.687577416980583),\n",
       " ('것', -3.409770061443912),\n",
       " ('조화', -8.717733734868313),\n",
       " ('남미풍', -14.552544471930918),\n",
       " ('강렬', -9.710985507878597),\n",
       " ('원색끼리', -15.651156760599028),\n",
       " ('수채화', -11.987595114469382),\n",
       " ('안온', -12.606634322875605),\n",
       " ('배색', -11.374490641582973),\n",
       " ('등', -5.136762982886866),\n",
       " ('분위기', -7.840398644069672),\n",
       " ('강조', -7.757584687094126),\n",
       " ('기하학적', -11.045986574610938),\n",
       " ('무늬', -9.901763774690775),\n",
       " ('꽃무늬', -11.643823575366557),\n",
       " ('주류', -10.038028654210958),\n",
       " ('장식품', -12.040238847954804),\n",
       " ('때', -5.077867422997946),\n",
       " ('옷', -7.699597429443776),\n",
       " ('해방감', -11.844494270828708),\n",
       " ('말', -4.643174256236635),\n",
       " ('집', -6.128636844570678)]"
      ]
     },
     "execution_count": 12,
     "metadata": {},
     "output_type": "execute_result"
    }
   ],
   "source": [
    "list(model['emission']['Noun'].items())[:50]"
   ]
  },
  {
   "cell_type": "code",
   "execution_count": null,
   "metadata": {
    "collapsed": true
   },
   "outputs": [],
   "source": []
  }
 ],
 "metadata": {
  "kernelspec": {
   "display_name": "Python 3",
   "language": "python",
   "name": "python3"
  },
  "language_info": {
   "codemirror_mode": {
    "name": "ipython",
    "version": 3
   },
   "file_extension": ".py",
   "mimetype": "text/x-python",
   "name": "python",
   "nbconvert_exporter": "python",
   "pygments_lexer": "ipython3",
   "version": "3.6.2"
  }
 },
 "nbformat": 4,
 "nbformat_minor": 1
}
