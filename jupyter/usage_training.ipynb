{
 "cells": [
  {
   "cell_type": "code",
   "execution_count": 1,
   "metadata": {
    "collapsed": true
   },
   "outputs": [],
   "source": [
    "import sys\n",
    "sys.path.append('../')\n",
    "import hmm_postagger"
   ]
  },
  {
   "cell_type": "code",
   "execution_count": 2,
   "metadata": {},
   "outputs": [
    {
     "name": "stdout",
     "output_type": "stream",
     "text": [
      "\n",
      "\n",
      "Training with ../data/sejong_simpletag.txt\n",
      "Corpus ... \n",
      "[['뭐', 'Noun'], ['타', 'Verb'], ['고', 'Eomi'], ['가', 'Verb'], ['ㅏ', 'Eomi']]\n",
      "[['지하철', 'Noun']]\n",
      "[['기차', 'Noun']]\n",
      "[['아침', 'Noun'], ['에', 'Josa'], ['몇', 'Determiner'], ['시', 'Noun'], ['에', 'Josa'], ['타', 'Verb'], ['고', 'Eomi'], ['가', 'Verb'], ['는데', 'Eomi']]\n",
      "training observation/transition prob from 1046918 sents was done\n",
      "num pos = 8, num transition = 64\n",
      "\n",
      "\n",
      "Training with ../data/sejong_fulltag.txt\n",
      "Corpus ... \n",
      "[['뭐', 'NP'], ['타', 'VV'], ['고', 'EC'], ['가', 'VV'], ['ㅏ', 'EF']]\n",
      "[['지하철', 'NNG']]\n",
      "[['기차', 'NNG']]\n",
      "[['아침', 'NNG'], ['에', 'JKB'], ['몇', 'MM'], ['시', 'NNB'], ['에', 'JKB'], ['타', 'VV'], ['고', 'EC'], ['가', 'VV'], ['는데', 'EF']]\n",
      "training observation/transition prob from 1046920 sents was done\n",
      "num pos = 33, num transition = 914\n"
     ]
    }
   ],
   "source": [
    "from hmm_postagger import Corpus\n",
    "from hmm_postagger import CorpusTrainer\n",
    "\n",
    "# set file\n",
    "paths = [\n",
    "    ('../data/sejong_simpletag.txt', '../models/sejong_simple_hmm.json'),\n",
    "    ('../data/sejong_fulltag.txt', '../models/sejong_full_hmm.json')\n",
    "]\n",
    "\n",
    "for sejong_path, model_path in paths:\n",
    "\n",
    "    print('\\n\\nTraining with {}'.format(sejong_path))\n",
    "\n",
    "    # check corpus\n",
    "    print('Corpus ... ')\n",
    "    corpus = Corpus(sejong_path)\n",
    "    for i, sent in enumerate(corpus):\n",
    "        if i > 3:\n",
    "            break\n",
    "        print(sent)\n",
    "\n",
    "    # train model\n",
    "    trainer = CorpusTrainer(min_count_tag=5, min_count_word=1, verbose=True)\n",
    "    trainer.train(corpus, model_path)\n",
    "\n",
    "    print('num pos = {}, num transition = {}'.format(\n",
    "        len(trainer.pos2words_), len(trainer.transition_)))"
   ]
  },
  {
   "cell_type": "code",
   "execution_count": 3,
   "metadata": {
    "collapsed": true
   },
   "outputs": [],
   "source": [
    "import json\n",
    "with open('../models/sejong_simple_hmm.json', encoding='utf-8') as f:\n",
    "    model = json.load(f)"
   ]
  },
  {
   "cell_type": "code",
   "execution_count": 5,
   "metadata": {},
   "outputs": [
    {
     "data": {
      "text/plain": [
       "{'Adjective Adjective': -10.720061641159432,\n",
       " 'Adjective Adverb': -13.285010998620969,\n",
       " 'Adjective Determiner': -13.285010998620969,\n",
       " 'Adjective Eomi': -0.0001674424696662001,\n",
       " 'Adjective Exclamation': -12.591863818061023,\n",
       " 'Adjective Josa': -9.343429190951278,\n",
       " 'Adjective Noun': -10.314596533051269,\n",
       " 'Adjective Verb': -10.933635741457492,\n",
       " 'Adverb Adjective': -2.4689354336654614,\n",
       " 'Adverb Adverb': -2.710754357146148,\n",
       " 'Adverb Determiner': -3.023057949101146,\n",
       " 'Adverb Eomi': -9.562922742221732,\n",
       " 'Adverb Exclamation': -5.329833790497822,\n",
       " 'Adverb Josa': -3.765053589788982,\n",
       " 'Adverb Noun': -0.6705186913840667,\n",
       " 'Adverb Verb': -1.344532884996553,\n",
       " 'Determiner Adjective': -4.156498823539567,\n",
       " 'Determiner Adverb': -5.254741699569564,\n",
       " 'Determiner Determiner': -4.005705492712193,\n",
       " 'Determiner Eomi': -10.268150920548544,\n",
       " 'Determiner Exclamation': -6.43769956881421,\n",
       " 'Determiner Josa': -6.273013008409892,\n",
       " 'Determiner Noun': -0.049007486621678774,\n",
       " 'Determiner Verb': -5.257515626452289,\n",
       " 'Eomi Adjective': -3.949019988166556,\n",
       " 'Eomi Adverb': -3.431433440717094,\n",
       " 'Eomi Determiner': -3.8693536934919135,\n",
       " 'Eomi Eomi': -1.9020671489364036,\n",
       " 'Eomi Exclamation': -6.308890517002057,\n",
       " 'Eomi Josa': -3.190198087133782,\n",
       " 'Eomi Noun': -0.6387321735511173,\n",
       " 'Eomi Verb': -1.5735442354933316,\n",
       " 'Exclamation Adjective': -2.9371613680538338,\n",
       " 'Exclamation Adverb': -1.797436273729945,\n",
       " 'Exclamation Determiner': -2.5031498387010784,\n",
       " 'Exclamation Eomi': -8.24046627611291,\n",
       " 'Exclamation Exclamation': -2.391584955153362,\n",
       " 'Exclamation Josa': -4.627471519523846,\n",
       " 'Exclamation Noun': -0.6499250010435557,\n",
       " 'Exclamation Verb': -2.5793772040889626,\n",
       " 'Josa Adjective': -2.83068871772969,\n",
       " 'Josa Adverb': -2.4401469190525873,\n",
       " 'Josa Determiner': -3.6412216640450468,\n",
       " 'Josa Eomi': -9.937778345114406,\n",
       " 'Josa Exclamation': -6.574975351439562,\n",
       " 'Josa Josa': -3.143482960046745,\n",
       " 'Josa Noun': -0.6876616451366938,\n",
       " 'Josa Verb': -1.2717747075705281,\n",
       " 'Noun Adjective': -2.329300124889789,\n",
       " 'Noun Adverb': -4.574313898674192,\n",
       " 'Noun Determiner': -5.3795257695135685,\n",
       " 'Noun Eomi': -9.354940021670256,\n",
       " 'Noun Exclamation': -7.923801689842723,\n",
       " 'Noun Josa': -0.6980887180483655,\n",
       " 'Noun Noun': -1.2262723175464505,\n",
       " 'Noun Verb': -2.3398230727810323,\n",
       " 'Verb Adjective': -10.944271066976357,\n",
       " 'Verb Adverb': -12.59292969256374,\n",
       " 'Verb Determiner': -14.20236760499784,\n",
       " 'Verb Eomi': -0.00018985111687947284,\n",
       " 'Verb Exclamation': -13.796902496889675,\n",
       " 'Verb Josa': -9.488343014097666,\n",
       " 'Verb Noun': -9.905082198779048,\n",
       " 'Verb Verb': -10.091493740824529}"
      ]
     },
     "execution_count": 5,
     "metadata": {},
     "output_type": "execute_result"
    }
   ],
   "source": [
    "model['transition']"
   ]
  },
  {
   "cell_type": "code",
   "execution_count": null,
   "metadata": {
    "collapsed": true
   },
   "outputs": [],
   "source": []
  }
 ],
 "metadata": {
  "kernelspec": {
   "display_name": "Python 3",
   "language": "python",
   "name": "python3"
  },
  "language_info": {
   "codemirror_mode": {
    "name": "ipython",
    "version": 3
   },
   "file_extension": ".py",
   "mimetype": "text/x-python",
   "name": "python",
   "nbconvert_exporter": "python",
   "pygments_lexer": "ipython3",
   "version": "3.6.2"
  }
 },
 "nbformat": 4,
 "nbformat_minor": 1
}
