{
 "cells": [
  {
   "cell_type": "code",
   "execution_count": 1,
   "metadata": {
    "collapsed": true
   },
   "outputs": [],
   "source": [
    "import sys\n",
    "sys.path.append('../')\n",
    "import hmm_postagger"
   ]
  },
  {
   "cell_type": "code",
   "execution_count": 2,
   "metadata": {},
   "outputs": [
    {
     "name": "stdout",
     "output_type": "stream",
     "text": [
      "\n",
      "\n",
      "Training with ../data/sejong_corpus_lr_sepxsv.txt\n",
      "Corpus ... \n",
      "[['프랑스', 'Noun'], ['의', 'Josa'], ['세계적', 'Noun'], ['이', 'Adjective'], ['ㄴ', 'Eomi'], ['의상', 'Noun'], ['디자이너', 'Noun'], ['엠마누엘', 'Noun'], ['웅가로', 'Noun'], ['가', 'Josa'], ['실내', 'Noun'], ['장식용', 'Noun'], ['직물', 'Noun'], ['디자이너', 'Noun'], ['로', 'Josa'], ['나서', 'Verb'], ['었다', 'Eomi']]\n",
      "training observation/transition prob from 1031957 sents was done\n",
      "num pos = 11, num transition = 144\n",
      "\n",
      "\n",
      "Training with ../data/sejong_corpus_lr_unsepxsv.txt\n",
      "Corpus ... \n",
      "[['프랑스', 'Noun'], ['의', 'Josa'], ['세계적이', 'Adjective'], ['ㄴ', 'Eomi'], ['의상', 'Noun'], ['디자이너', 'Noun'], ['엠마누엘', 'Noun'], ['웅가로', 'Noun'], ['가', 'Josa'], ['실내', 'Noun'], ['장식용', 'Noun'], ['직물', 'Noun'], ['디자이너', 'Noun'], ['로', 'Josa'], ['나서', 'Verb'], ['었다', 'Eomi']]\n",
      "training observation/transition prob from 1031957 sents was done\n",
      "num pos = 11, num transition = 144\n"
     ]
    }
   ],
   "source": [
    "from hmm_postagger import Corpus\n",
    "from hmm_postagger import CorpusTrainer\n",
    "\n",
    "# set file\n",
    "paths = [\n",
    "    ('../data/sejong_corpus_lr_sepxsv.txt', '../models/sejong_lr_sepxsv_hmm.json'),\n",
    "    ('../data/sejong_corpus_lr_unsepxsv.txt', '../models/sejong_lr_unsepxsv_hmm.json')\n",
    "]\n",
    "\n",
    "for sejong_path, model_path in paths:\n",
    "\n",
    "    print('\\n\\nTraining with {}'.format(sejong_path))\n",
    "\n",
    "    # check corpus\n",
    "    print('Corpus ... ')\n",
    "    corpus = Corpus(sejong_path)\n",
    "    for i, sent in enumerate(corpus):\n",
    "        print(sent)\n",
    "        break\n",
    "\n",
    "    # train model\n",
    "    trainer = CorpusTrainer(min_count_tag=5, min_count_word=1, verbose=True)\n",
    "    trainer.train(corpus, model_path)\n",
    "\n",
    "    print('num pos = {}, num transition = {}'.format(\n",
    "        len(trainer.emission_), len(trainer.transition_)))"
   ]
  },
  {
   "cell_type": "code",
   "execution_count": 3,
   "metadata": {
    "collapsed": true
   },
   "outputs": [],
   "source": [
    "import json\n",
    "with open(model_path, encoding='utf-8') as f:\n",
    "    model = json.load(f)"
   ]
  },
  {
   "cell_type": "code",
   "execution_count": 4,
   "metadata": {},
   "outputs": [
    {
     "data": {
      "text/plain": [
       "dict_keys(['emission', 'transition'])"
      ]
     },
     "execution_count": 4,
     "metadata": {},
     "output_type": "execute_result"
    }
   ],
   "source": [
    "model.keys()"
   ]
  },
  {
   "cell_type": "code",
   "execution_count": 5,
   "metadata": {},
   "outputs": [
    {
     "data": {
      "text/plain": [
       "dict_keys(['Noun', 'Josa', 'Adjective', 'Eomi', 'Verb', 'Pronoun', 'Adverb', 'Determiner', 'Number', 'Unk', 'Exclamation'])"
      ]
     },
     "execution_count": 5,
     "metadata": {},
     "output_type": "execute_result"
    }
   ],
   "source": [
    "model['emission'].keys()"
   ]
  },
  {
   "cell_type": "code",
   "execution_count": 6,
   "metadata": {},
   "outputs": [
    {
     "data": {
      "text/plain": [
       "[('프랑스', -7.794385810258628),\n",
       " ('의상', -9.641646878244101),\n",
       " ('디자이너', -11.150280091556237),\n",
       " ('엠마누엘', -14.747592352144682),\n",
       " ('웅가로', -14.342127244036519),\n",
       " ('실내', -9.842317573706254),\n",
       " ('장식용', -11.885391471215215),\n",
       " ('직물', -10.825619015863369),\n",
       " ('침실', -10.653247789922581),\n",
       " ('식당', -8.800863698878091),\n",
       " ('욕실', -10.353143197472244),\n",
       " ('갖가지', -9.647725924320484),\n",
       " ('직물제품', -15.440739532704628),\n",
       " ('최근', -7.137482411851687),\n",
       " ('파리', -9.020744604557486),\n",
       " ('갤러리', -11.612098136215533),\n",
       " ('라파예트백화점', -15.440739532704628),\n",
       " ('색', -8.727783332027558),\n",
       " ('이름', -6.8632041122822285),\n",
       " ('전시회', -9.927310786539646),\n",
       " ('목욕가운', -14.054445171584737),\n",
       " ('탁자보', -14.747592352144682),\n",
       " ('냅킨', -12.039542151042472),\n",
       " ('앞치마', -11.829821620060404),\n",
       " ('작품들', -9.546336698439777),\n",
       " ('것', -3.634995211177466),\n",
       " ('남미풍', -14.747592352144682),\n",
       " ('원색끼리', -15.440739532704628),\n",
       " ('조화', -8.940952492048774),\n",
       " ('수채화', -11.944231971238148),\n",
       " ('배색', -11.415387841969478),\n",
       " ('등', -4.943759402768738),\n",
       " ('분위기', -7.712323752863585),\n",
       " ('기하학적', -11.164073413688572),\n",
       " ('무늬', -9.707398255806883),\n",
       " ('꽃무늬', -11.433406347472157),\n",
       " ('디자인', -9.57710835710653),\n",
       " ('주류', -9.955942599213973),\n",
       " ('장식품', -11.885391471215215),\n",
       " ('때', -4.9199334821047875),\n",
       " ('옷', -7.515943618748192),\n",
       " ('해방감', -11.70306991442126),\n",
       " ('집', -5.955118670994407),\n",
       " ('창작', -9.700946620525393),\n",
       " ('공간', -7.8383381970388095),\n",
       " ('미학', -10.365565717470801),\n",
       " ('시간', -6.1422967125069),\n",
       " ('반', -7.873393856691388),\n",
       " ('이상', -6.517148335131625),\n",
       " ('체조', -10.695807404341378)]"
      ]
     },
     "execution_count": 6,
     "metadata": {},
     "output_type": "execute_result"
    }
   ],
   "source": [
    "list(model['emission']['Noun'].items())[:50]"
   ]
  },
  {
   "cell_type": "code",
   "execution_count": 7,
   "metadata": {
    "scrolled": false
   },
   "outputs": [
    {
     "data": {
      "text/plain": [
       "{'Adjective Adjective': -6.504927738257543,\n",
       " 'Adjective Adverb': -6.824663182523231,\n",
       " 'Adjective Determiner': -7.848160300445497,\n",
       " 'Adjective EOS': -5.333859290136682,\n",
       " 'Adjective Eomi': -0.019305546822270488,\n",
       " 'Adjective Exclamation': -9.293925215163716,\n",
       " 'Adjective Josa': -9.11487698371473,\n",
       " 'Adjective Noun': -5.4235415316409235,\n",
       " 'Adjective Number': -9.059085624086315,\n",
       " 'Adjective Pronoun': -7.153859051667445,\n",
       " 'Adjective Unk': -6.436779104895871,\n",
       " 'Adjective Verb': -5.470626282498171,\n",
       " 'Adverb Adjective': -1.9937441713141584,\n",
       " 'Adverb Adverb': -2.7840413713537475,\n",
       " 'Adverb Determiner': -3.0614116823793585,\n",
       " 'Adverb EOS': -3.7721295123576057,\n",
       " 'Adverb Eomi': -8.906638603151944,\n",
       " 'Adverb Exclamation': -5.494705406345194,\n",
       " 'Adverb Josa': -3.766982071909051,\n",
       " 'Adverb Noun': -1.0846174981773558,\n",
       " 'Adverb Number': -5.249938047402242,\n",
       " 'Adverb Pronoun': -3.0317346249317048,\n",
       " 'Adverb Unk': -7.269029813751147,\n",
       " 'Adverb Verb': -1.1627372099237359,\n",
       " 'BOS Adjective': -2.8106283021621152,\n",
       " 'BOS Adverb': -1.6637858692851255,\n",
       " 'BOS Determiner': -2.7198379040634095,\n",
       " 'BOS EOS': -5.254667862618011,\n",
       " 'BOS Eomi': -8.979434076065472,\n",
       " 'BOS Exclamation': -2.9411776971211143,\n",
       " 'BOS Josa': -5.2528142939686875,\n",
       " 'BOS Noun': -0.7974662066839645,\n",
       " 'BOS Number': -4.708446442335343,\n",
       " 'BOS Pronoun': -2.2105342273878215,\n",
       " 'BOS Unk': -5.571846896304545,\n",
       " 'BOS Verb': -3.0322228846388453,\n",
       " 'Determiner Adjective': -2.6014207699126706,\n",
       " 'Determiner Adverb': -5.397884791274656,\n",
       " 'Determiner Determiner': -4.0449386782330885,\n",
       " 'Determiner EOS': -5.67976840146362,\n",
       " 'Determiner Eomi': -11.566797930434719,\n",
       " 'Determiner Exclamation': -6.512677524398724,\n",
       " 'Determiner Josa': -5.652394429463198,\n",
       " 'Determiner Noun': -0.14076384965354352,\n",
       " 'Determiner Number': -4.388252446671018,\n",
       " 'Determiner Pronoun': -5.206071323882532,\n",
       " 'Determiner Unk': -7.929211770708332,\n",
       " 'Determiner Verb': -4.777450882502883,\n",
       " 'Eomi Adjective': -2.392952618478309,\n",
       " 'Eomi Adverb': -3.4418496954775017,\n",
       " 'Eomi Determiner': -3.9291964826435133,\n",
       " 'Eomi EOS': -1.4950030308743196,\n",
       " 'Eomi Eomi': -9.093876875275933,\n",
       " 'Eomi Exclamation': -6.480890540974555,\n",
       " 'Eomi Josa': -6.337439831915638,\n",
       " 'Eomi Noun': -0.9200252804629268,\n",
       " 'Eomi Number': -6.4043183828083725,\n",
       " 'Eomi Pronoun': -3.884718897531493,\n",
       " 'Eomi Unk': -8.520824870130753,\n",
       " 'Eomi Verb': -1.5683066224784372,\n",
       " 'Exclamation Adjective': -2.9734323854970905,\n",
       " 'Exclamation Adverb': -2.3888891858345325,\n",
       " 'Exclamation Determiner': -3.0775504316595126,\n",
       " 'Exclamation EOS': -0.8540122962332775,\n",
       " 'Exclamation Eomi': -8.588383646446676,\n",
       " 'Exclamation Exclamation': -2.971612548780105,\n",
       " 'Exclamation Josa': -5.142941562986763,\n",
       " 'Exclamation Noun': -1.6772056601870369,\n",
       " 'Exclamation Number': -5.111548850578901,\n",
       " 'Exclamation Pronoun': -2.543886247430472,\n",
       " 'Exclamation Unk': -5.662920568739241,\n",
       " 'Exclamation Verb': -2.9343918362934907,\n",
       " 'Josa Adjective': -2.230813341172414,\n",
       " 'Josa Adverb': -2.4709802680524255,\n",
       " 'Josa Determiner': -3.6798191868565735,\n",
       " 'Josa EOS': -4.4538025981933504,\n",
       " 'Josa Eomi': -11.033748013632927,\n",
       " 'Josa Exclamation': -6.708334400755312,\n",
       " 'Josa Josa': -5.781812423427349,\n",
       " 'Josa Noun': -1.0353205844503321,\n",
       " 'Josa Number': -5.499402715102497,\n",
       " 'Josa Pronoun': -3.772828785757778,\n",
       " 'Josa Unk': -8.336508728634932,\n",
       " 'Josa Verb': -0.9559493974282922,\n",
       " 'Noun Adjective': -3.7329308676586677,\n",
       " 'Noun Adverb': -4.309479721630618,\n",
       " 'Noun Determiner': -5.1957686721618686,\n",
       " 'Noun EOS': -4.597152030126044,\n",
       " 'Noun Eomi': -6.367677474157592,\n",
       " 'Noun Exclamation': -7.871926943548933,\n",
       " 'Noun Josa': -0.37187045367271043,\n",
       " 'Noun Noun': -1.5269356657065378,\n",
       " 'Noun Number': -6.044832888093118,\n",
       " 'Noun Pronoun': -5.607274802624483,\n",
       " 'Noun Unk': -8.834172420757714,\n",
       " 'Noun Verb': -3.4392619139673806,\n",
       " 'Number Adjective': -2.453467563873201,\n",
       " 'Number Adverb': -3.8636802594598287,\n",
       " 'Number Determiner': -4.155438978405373,\n",
       " 'Number EOS': -4.05696486477718,\n",
       " 'Number Eomi': -6.198512875914334,\n",
       " 'Number Exclamation': -7.314074722896217,\n",
       " 'Number Josa': -1.2334963097238685,\n",
       " 'Number Noun': -0.8646174925953877,\n",
       " 'Number Number': -2.2954373430253594,\n",
       " 'Number Pronoun': -5.730612296865377,\n",
       " 'Number Unk': -7.645431858850659,\n",
       " 'Number Verb': -3.2086803244875313,\n",
       " 'Pronoun Adjective': -2.8258835868717123,\n",
       " 'Pronoun Adverb': -4.405709902835419,\n",
       " 'Pronoun Determiner': -5.811759755902326,\n",
       " 'Pronoun EOS': -5.134605162376454,\n",
       " 'Pronoun Eomi': -4.723133055119162,\n",
       " 'Pronoun Exclamation': -6.861581880401004,\n",
       " 'Pronoun Josa': -0.23015940178042638,\n",
       " 'Pronoun Noun': -2.43486163471645,\n",
       " 'Pronoun Number': -6.363474149922295,\n",
       " 'Pronoun Pronoun': -5.18829249598037,\n",
       " 'Pronoun Unk': -7.988051123572079,\n",
       " 'Pronoun Verb': -3.9090783413978327,\n",
       " 'Unk Adjective': -3.405221531961881,\n",
       " 'Unk Adverb': -3.1075092851501624,\n",
       " 'Unk Determiner': -4.464302981873355,\n",
       " 'Unk EOS': -0.4825225394318463,\n",
       " 'Unk Eomi': -4.835479016502887,\n",
       " 'Unk Exclamation': -4.456580935779445,\n",
       " 'Unk Josa': -3.8310539428944788,\n",
       " 'Unk Noun': -2.256795537581552,\n",
       " 'Unk Number': -5.517452896464707,\n",
       " 'Unk Pronoun': -3.802654468372781,\n",
       " 'Unk Unk': -3.1095072878128356,\n",
       " 'Unk Verb': -2.5706774676372475,\n",
       " 'Verb Adjective': -9.838855784420808,\n",
       " 'Verb Adverb': -11.165726725069897,\n",
       " 'Verb Determiner': -11.533451505195215,\n",
       " 'Verb EOS': -9.482180840482075,\n",
       " 'Verb Eomi': -0.0009082520874899112,\n",
       " 'Verb Exclamation': -13.219850458765443,\n",
       " 'Verb Josa': -9.641902565358789,\n",
       " 'Verb Noun': -9.551173711969026,\n",
       " 'Verb Number': -13.730676082531433,\n",
       " 'Verb Pronoun': -11.165726725069897,\n",
       " 'Verb Unk': -7.506117653256074,\n",
       " 'Verb Verb': -9.873461313598282}"
      ]
     },
     "execution_count": 7,
     "metadata": {},
     "output_type": "execute_result"
    }
   ],
   "source": [
    "model['transition']"
   ]
  },
  {
   "cell_type": "code",
   "execution_count": null,
   "metadata": {
    "collapsed": true
   },
   "outputs": [],
   "source": []
  }
 ],
 "metadata": {
  "kernelspec": {
   "display_name": "Python 3",
   "language": "python",
   "name": "python3"
  },
  "language_info": {
   "codemirror_mode": {
    "name": "ipython",
    "version": 3
   },
   "file_extension": ".py",
   "mimetype": "text/x-python",
   "name": "python",
   "nbconvert_exporter": "python",
   "pygments_lexer": "ipython3",
   "version": "3.6.2"
  }
 },
 "nbformat": 4,
 "nbformat_minor": 1
}
