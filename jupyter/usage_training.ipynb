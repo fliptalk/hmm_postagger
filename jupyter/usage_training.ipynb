{
 "cells": [
  {
   "cell_type": "code",
   "execution_count": 1,
   "metadata": {
    "collapsed": true
   },
   "outputs": [],
   "source": [
    "import sys\n",
    "sys.path.append('../')\n",
    "import hmm_postagger"
   ]
  },
  {
   "cell_type": "code",
   "execution_count": 2,
   "metadata": {},
   "outputs": [
    {
     "name": "stdout",
     "output_type": "stream",
     "text": [
      "\n",
      "\n",
      "Training with ../data/sejong_simpletag.txt\n",
      "Corpus ... \n",
      "[['뭐', 'Noun'], ['타', 'Verb'], ['고', 'Eomi'], ['가', 'Verb'], ['ㅏ', 'Eomi']]\n",
      "[['지하철', 'Noun']]\n",
      "[['기차', 'Noun']]\n",
      "[['아침', 'Noun'], ['에', 'Josa'], ['몇', 'Determiner'], ['시', 'Noun'], ['에', 'Josa'], ['타', 'Verb'], ['고', 'Eomi'], ['가', 'Verb'], ['는데', 'Eomi']]\n",
      "training observation/transition prob from 1046918 sents was done\n",
      "num pos = 8, num transition = 72\n",
      "\n",
      "\n",
      "Training with ../data/sejong_fulltag.txt\n",
      "Corpus ... \n",
      "[['뭐', 'NP'], ['타', 'VV'], ['고', 'EC'], ['가', 'VV'], ['ㅏ', 'EF']]\n",
      "[['지하철', 'NNG']]\n",
      "[['기차', 'NNG']]\n",
      "[['아침', 'NNG'], ['에', 'JKB'], ['몇', 'MM'], ['시', 'NNB'], ['에', 'JKB'], ['타', 'VV'], ['고', 'EC'], ['가', 'VV'], ['는데', 'EF']]\n",
      "training observation/transition prob from 1046920 sents was done\n",
      "num pos = 33, num transition = 946\n"
     ]
    }
   ],
   "source": [
    "from hmm_postagger import Corpus\n",
    "from hmm_postagger import CorpusTrainer\n",
    "\n",
    "# set file\n",
    "paths = [\n",
    "    ('../data/sejong_simpletag.txt', '../models/sejong_simple_hmm.json'),\n",
    "    ('../data/sejong_fulltag.txt', '../models/sejong_full_hmm.json')\n",
    "]\n",
    "\n",
    "for sejong_path, model_path in paths:\n",
    "\n",
    "    print('\\n\\nTraining with {}'.format(sejong_path))\n",
    "\n",
    "    # check corpus\n",
    "    print('Corpus ... ')\n",
    "    corpus = Corpus(sejong_path)\n",
    "    for i, sent in enumerate(corpus):\n",
    "        if i > 3:\n",
    "            break\n",
    "        print(sent)\n",
    "\n",
    "    # train model\n",
    "    trainer = CorpusTrainer(min_count_tag=5, min_count_word=1, verbose=True)\n",
    "    trainer.train(corpus, model_path)\n",
    "\n",
    "    print('num pos = {}, num transition = {}'.format(\n",
    "        len(trainer.pos2words_), len(trainer.transition_)))"
   ]
  },
  {
   "cell_type": "code",
   "execution_count": 3,
   "metadata": {
    "collapsed": true
   },
   "outputs": [],
   "source": [
    "import json\n",
    "with open('../models/sejong_simple_hmm.json', encoding='utf-8') as f:\n",
    "    model = json.load(f)"
   ]
  },
  {
   "cell_type": "code",
   "execution_count": 4,
   "metadata": {},
   "outputs": [
    {
     "data": {
      "text/plain": [
       "dict_keys(['emission', 'transition', 'begin'])"
      ]
     },
     "execution_count": 4,
     "metadata": {},
     "output_type": "execute_result"
    }
   ],
   "source": [
    "model.keys()"
   ]
  },
  {
   "cell_type": "code",
   "execution_count": 5,
   "metadata": {},
   "outputs": [
    {
     "data": {
      "text/plain": [
       "{'Adjective Adjective': -10.720074389437459,\n",
       " 'Adjective Adverb': -13.285023746898995,\n",
       " 'Adjective Determiner': -13.285023746898995,\n",
       " 'Adjective EOS': -11.270120726356732,\n",
       " 'Adjective Eomi': -0.00018019074769268445,\n",
       " 'Adjective Exclamation': -12.591876566339051,\n",
       " 'Adjective Josa': -9.343441939229304,\n",
       " 'Adjective Noun': -10.314609281329295,\n",
       " 'Adjective Verb': -10.933648489735518,\n",
       " 'Adverb Adjective': -2.492732590632981,\n",
       " 'Adverb Adverb': -2.7345515141136674,\n",
       " 'Adverb Determiner': -3.0468551060686653,\n",
       " 'Adverb EOS': -3.750064143153076,\n",
       " 'Adverb Eomi': -9.58671989918925,\n",
       " 'Adverb Exclamation': -5.353630947465341,\n",
       " 'Adverb Josa': -3.7888507467565016,\n",
       " 'Adverb Noun': -0.6943158483515862,\n",
       " 'Adverb Verb': -1.3683300419640723,\n",
       " 'Determiner Adjective': -4.160227320793998,\n",
       " 'Determiner Adverb': -5.258470196823995,\n",
       " 'Determiner Determiner': -4.009433989966624,\n",
       " 'Determiner EOS': -5.593613676744334,\n",
       " 'Determiner Eomi': -10.271879417802976,\n",
       " 'Determiner Exclamation': -6.441428066068641,\n",
       " 'Determiner Josa': -6.276741505664323,\n",
       " 'Determiner Noun': -0.05273598387611011,\n",
       " 'Determiner Verb': -5.26124412370672,\n",
       " 'Eomi Adjective': -4.160003712429146,\n",
       " 'Eomi Adverb': -3.6424171649796837,\n",
       " 'Eomi Determiner': -4.080337417754503,\n",
       " 'Eomi EOS': -1.6596120788506405,\n",
       " 'Eomi Eomi': -2.113050873198993,\n",
       " 'Eomi Exclamation': -6.519874241264647,\n",
       " 'Eomi Josa': -3.4011818113963717,\n",
       " 'Eomi Noun': -0.849715897813707,\n",
       " 'Eomi Verb': -1.7845279597559212,\n",
       " 'Exclamation Adjective': -3.446793267257881,\n",
       " 'Exclamation Adverb': -2.307068172933992,\n",
       " 'Exclamation Determiner': -3.0127817379051254,\n",
       " 'Exclamation EOS': -0.9180839948114878,\n",
       " 'Exclamation Eomi': -8.750098175316957,\n",
       " 'Exclamation Exclamation': -2.9012168543574095,\n",
       " 'Exclamation Josa': -5.137103418727893,\n",
       " 'Exclamation Noun': -1.1595569002476025,\n",
       " 'Exclamation Verb': -3.0890091032930096,\n",
       " 'Josa Adjective': -2.8414219587265634,\n",
       " 'Josa Adverb': -2.45088016004946,\n",
       " 'Josa Determiner': -3.65195490504192,\n",
       " 'Josa EOS': -4.539771538313151,\n",
       " 'Josa Eomi': -9.948511586111279,\n",
       " 'Josa Exclamation': -6.585708592436435,\n",
       " 'Josa Josa': -3.154216201043618,\n",
       " 'Josa Noun': -0.6983948861335667,\n",
       " 'Josa Verb': -1.282507948567401,\n",
       " 'Noun Adjective': -2.3366674620811856,\n",
       " 'Noun Adverb': -4.581681235865589,\n",
       " 'Noun Determiner': -5.3868931067049655,\n",
       " 'Noun EOS': -4.914380348839861,\n",
       " 'Noun Eomi': -9.362307358861653,\n",
       " 'Noun Exclamation': -7.931169027034119,\n",
       " 'Noun Josa': -0.7054560552397621,\n",
       " 'Noun Noun': -1.2336396547378472,\n",
       " 'Noun Verb': -2.3471904099724292,\n",
       " 'Verb Adjective': -10.944283971468513,\n",
       " 'Verb Adverb': -12.592942597055895,\n",
       " 'Verb Determiner': -14.202380509489995,\n",
       " 'Verb EOS': -11.257941530323555,\n",
       " 'Verb Eomi': -0.00020275560903530233,\n",
       " 'Verb Exclamation': -13.796915401381831,\n",
       " 'Verb Josa': -9.488355918589821,\n",
       " 'Verb Noun': -9.905095103271204,\n",
       " 'Verb Verb': -10.091506645316684}"
      ]
     },
     "execution_count": 5,
     "metadata": {},
     "output_type": "execute_result"
    }
   ],
   "source": [
    "model['transition']"
   ]
  },
  {
   "cell_type": "code",
   "execution_count": null,
   "metadata": {
    "collapsed": true
   },
   "outputs": [],
   "source": []
  }
 ],
 "metadata": {
  "kernelspec": {
   "display_name": "Python 3",
   "language": "python",
   "name": "python3"
  },
  "language_info": {
   "codemirror_mode": {
    "name": "ipython",
    "version": 3
   },
   "file_extension": ".py",
   "mimetype": "text/x-python",
   "name": "python",
   "nbconvert_exporter": "python",
   "pygments_lexer": "ipython3",
   "version": "3.6.2"
  }
 },
 "nbformat": 4,
 "nbformat_minor": 1
}
