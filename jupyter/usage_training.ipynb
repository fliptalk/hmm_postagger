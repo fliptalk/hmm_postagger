{
 "cells": [
  {
   "cell_type": "code",
   "execution_count": 1,
   "metadata": {
    "collapsed": true
   },
   "outputs": [],
   "source": [
    "import sys\n",
    "sys.path.append('../')\n",
    "import hmm_postagger"
   ]
  },
  {
   "cell_type": "code",
   "execution_count": 3,
   "metadata": {},
   "outputs": [
    {
     "name": "stdout",
     "output_type": "stream",
     "text": [
      "\n",
      "\n",
      "Training with ../data/sejong_simpletag.txt\n",
      "Corpus ... \n",
      "[['뭐', 'Noun'], ['타', 'Verb'], ['고', 'Eomi'], ['가', 'Verb'], ['ㅏ', 'Eomi']]\n",
      "[['지하철', 'Noun']]\n",
      "[['기차', 'Noun']]\n",
      "[['아침', 'Noun'], ['에', 'Josa'], ['몇', 'Determiner'], ['시', 'Noun'], ['에', 'Josa'], ['타', 'Verb'], ['고', 'Eomi'], ['가', 'Verb'], ['는데', 'Eomi']]\n",
      "training observation/transition prob from 1046918 sents was done\n",
      "num pos = 8, num transition = 72\n",
      "\n",
      "\n",
      "Training with ../data/sejong_fulltag.txt\n",
      "Corpus ... \n",
      "[['뭐', 'NP'], ['타', 'VV'], ['고', 'EC'], ['가', 'VV'], ['ㅏ', 'EF']]\n",
      "[['지하철', 'NNG']]\n",
      "[['기차', 'NNG']]\n",
      "[['아침', 'NNG'], ['에', 'JKB'], ['몇', 'MM'], ['시', 'NNB'], ['에', 'JKB'], ['타', 'VV'], ['고', 'EC'], ['가', 'VV'], ['는데', 'EF']]\n",
      "training observation/transition prob from 1046920 sents was done\n",
      "num pos = 33, num transition = 946\n"
     ]
    }
   ],
   "source": [
    "from hmm_postagger import Corpus\n",
    "from hmm_postagger import CorpusTrainer\n",
    "\n",
    "# set file\n",
    "paths = [\n",
    "    ('../data/sejong_simpletag.txt', '../models/sejong_simple_hmm.json'),\n",
    "    ('../data/sejong_fulltag.txt', '../models/sejong_full_hmm.json')\n",
    "]\n",
    "\n",
    "for sejong_path, model_path in paths:\n",
    "\n",
    "    print('\\n\\nTraining with {}'.format(sejong_path))\n",
    "\n",
    "    # check corpus\n",
    "    print('Corpus ... ')\n",
    "    corpus = Corpus(sejong_path)\n",
    "    for i, sent in enumerate(corpus):\n",
    "        if i > 3:\n",
    "            break\n",
    "        print(sent)\n",
    "\n",
    "    # train model\n",
    "    trainer = CorpusTrainer(min_count_tag=5, min_count_word=1, verbose=True)\n",
    "    trainer.train(corpus, model_path)\n",
    "\n",
    "    print('num pos = {}, num transition = {}'.format(\n",
    "        len(trainer.emission_), len(trainer.transition_)))"
   ]
  },
  {
   "cell_type": "code",
   "execution_count": 4,
   "metadata": {
    "collapsed": true
   },
   "outputs": [],
   "source": [
    "import json\n",
    "with open('../models/sejong_simple_hmm.json', encoding='utf-8') as f:\n",
    "    model = json.load(f)"
   ]
  },
  {
   "cell_type": "code",
   "execution_count": 5,
   "metadata": {},
   "outputs": [
    {
     "data": {
      "text/plain": [
       "dict_keys(['emission', 'transition'])"
      ]
     },
     "execution_count": 5,
     "metadata": {},
     "output_type": "execute_result"
    }
   ],
   "source": [
    "model.keys()"
   ]
  },
  {
   "cell_type": "code",
   "execution_count": null,
   "metadata": {
    "collapsed": true
   },
   "outputs": [],
   "source": []
  }
 ],
 "metadata": {
  "kernelspec": {
   "display_name": "Python 3",
   "language": "python",
   "name": "python3"
  },
  "language_info": {
   "codemirror_mode": {
    "name": "ipython",
    "version": 3
   },
   "file_extension": ".py",
   "mimetype": "text/x-python",
   "name": "python",
   "nbconvert_exporter": "python",
   "pygments_lexer": "ipython3",
   "version": "3.6.2"
  }
 },
 "nbformat": 4,
 "nbformat_minor": 1
}
